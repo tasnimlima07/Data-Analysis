{
  "nbformat": 4,
  "nbformat_minor": 0,
  "metadata": {
    "colab": {
      "provenance": [],
      "authorship_tag": "ABX9TyNU9hmqNQoA2Fuu6+tedEKO",
      "include_colab_link": true
    },
    "kernelspec": {
      "name": "python3",
      "display_name": "Python 3"
    },
    "language_info": {
      "name": "python"
    }
  },
  "cells": [
    {
      "cell_type": "markdown",
      "metadata": {
        "id": "view-in-github",
        "colab_type": "text"
      },
      "source": [
        "<a href=\"https://colab.research.google.com/github/tasnimlima07/Data-Analysis/blob/main/Pilot_Analysis_Employee_Churn.ipynb\" target=\"_parent\"><img src=\"https://colab.research.google.com/assets/colab-badge.svg\" alt=\"Open In Colab\"/></a>"
      ]
    },
    {
      "cell_type": "markdown",
      "source": [
        "#Connecting to Bing Query"
      ],
      "metadata": {
        "id": "4Wbm_d3Caq5x"
      }
    },
    {
      "cell_type": "code",
      "source": [
        "#libraries that we need\n",
        "from google.cloud import bigquery\n",
        "from google.colab import auth\n",
        "\n",
        "#Authenticate\n",
        "auth.authenticate_user()\n",
        "#initialize the client for Bigquery\n",
        "\n",
        "\n",
        "project_id = \"churn-cloud-peoject\"\n",
        "client= bigquery.Client(project=project_id, location='Us')\n"
      ],
      "metadata": {
        "id": "4bg6eKFKa3fk"
      },
      "execution_count": null,
      "outputs": []
    },
    {
      "cell_type": "code",
      "source": [
        "#Get the dataset and Table\n",
        "dataset_ref = client.dataset('Employeedata', project=project_id)\n",
        "dataset= client.get_dataset(dataset_ref)\n",
        "table_ref= dataset.table('tbl_hr_data')\n",
        "table= client.get_table(table_ref)\n",
        "table.schema"
      ],
      "metadata": {
        "id": "aev-5Jzicq79"
      },
      "execution_count": null,
      "outputs": []
    },
    {
      "cell_type": "code",
      "source": [
        "new_table_ref= dataset.table('tbl_new_employees')\n",
        "new_table= client.get_table(new_table_ref)\n",
        "new_table.schema"
      ],
      "metadata": {
        "id": "rfm3eeWkfCpw"
      },
      "execution_count": null,
      "outputs": []
    },
    {
      "cell_type": "code",
      "source": [
        "#Convert to dataframe\n",
        "df= client.list_rows(table=table).to_dataframe()\n",
        "df.head()"
      ],
      "metadata": {
        "id": "mcd0UcZjfn3e"
      },
      "execution_count": null,
      "outputs": []
    },
    {
      "cell_type": "code",
      "source": [
        "#Convert to dataframe\n",
        "df2= client.list_rows(table=new_table).to_dataframe()\n",
        "df2.head()"
      ],
      "metadata": {
        "id": "WQj0zNcJgAl7"
      },
      "execution_count": null,
      "outputs": []
    },
    {
      "cell_type": "code",
      "source": [
        "!pip install pycaret"
      ],
      "metadata": {
        "id": "OYJqlOs38zOH"
      },
      "execution_count": null,
      "outputs": []
    },
    {
      "cell_type": "markdown",
      "source": [
        "#Build Model\n"
      ],
      "metadata": {
        "id": "f701XSoXggo_"
      }
    },
    {
      "cell_type": "code",
      "source": [
        "#Get our Model\n",
        "from pycaret.classification import *\n",
        "setup(df, target=\"Quit_the_Company\",\n",
        "      session_id=123,\n",
        "      ignore_features=['employee_id'],\n",
        "      categorical_features=['Departments', 'salary'])\n"
      ],
      "metadata": {
        "id": "SXZp7FNIgyVC"
      },
      "execution_count": null,
      "outputs": []
    },
    {
      "cell_type": "code",
      "source": [
        "compare_models()"
      ],
      "metadata": {
        "collapsed": true,
        "id": "eqT8kx-UinnY"
      },
      "execution_count": null,
      "outputs": []
    },
    {
      "cell_type": "code",
      "source": [
        "rf_model=create_model('rf')"
      ],
      "metadata": {
        "id": "PpgI8WDO9eRp"
      },
      "execution_count": null,
      "outputs": []
    },
    {
      "cell_type": "code",
      "source": [
        "final_df=predict_model(rf_model)\n",
        "final_df.head()"
      ],
      "metadata": {
        "id": "9CWw4Jia-pl9"
      },
      "execution_count": null,
      "outputs": []
    },
    {
      "cell_type": "code",
      "source": [
        "final_df.info()"
      ],
      "metadata": {
        "id": "YuYD2_Ry_Gj5"
      },
      "execution_count": null,
      "outputs": []
    },
    {
      "cell_type": "code",
      "source": [
        "new_prediction=predict_model(rf_model, data=df2)"
      ],
      "metadata": {
        "id": "vo-9HL5__KXn"
      },
      "execution_count": null,
      "outputs": []
    },
    {
      "cell_type": "code",
      "source": [
        "new_prediction.head(100)"
      ],
      "metadata": {
        "id": "RPGbeE-n_VqT"
      },
      "execution_count": null,
      "outputs": []
    },
    {
      "cell_type": "code",
      "source": [
        "new_prediction.info()"
      ],
      "metadata": {
        "id": "PezBoTDC_ylP"
      },
      "execution_count": null,
      "outputs": []
    },
    {
      "cell_type": "code",
      "source": [
        "new_prediction.to_gbq('Employeedata.pilot_predictions',project_id, chunksize=None, if_exists='replace')"
      ],
      "metadata": {
        "id": "CsjJxqThAM0f"
      },
      "execution_count": null,
      "outputs": []
    },
    {
      "cell_type": "code",
      "source": [
        "plot_model(rf_model,plot='feature')"
      ],
      "metadata": {
        "id": "20-sU0iiCVLF"
      },
      "execution_count": null,
      "outputs": []
    },
    {
      "cell_type": "code",
      "source": [
        "rf_model.feature_names_in_"
      ],
      "metadata": {
        "id": "oGSG4erVGERC"
      },
      "execution_count": null,
      "outputs": []
    },
    {
      "cell_type": "code",
      "source": [
        "rf_model.feature_importances_"
      ],
      "metadata": {
        "id": "mMV-ir1aGuCx"
      },
      "execution_count": null,
      "outputs": []
    },
    {
      "cell_type": "code",
      "source": [
        "import pandas as pd\n",
        "feature_table = pd.DataFrame(zip(rf_model.feature_names_in_,rf_model.feature_importances_), columns=['features','importance'])"
      ],
      "metadata": {
        "id": "H1kOpLAkG91R"
      },
      "execution_count": null,
      "outputs": []
    },
    {
      "cell_type": "code",
      "source": [
        "feature_table"
      ],
      "metadata": {
        "id": "5RGgnt2jHcRu"
      },
      "execution_count": null,
      "outputs": []
    },
    {
      "cell_type": "code",
      "source": [
        "feature_table.to_gbq('Employeedata.feature_table',project_id, chunksize=None, if_exists='replace')"
      ],
      "metadata": {
        "id": "6n8w3XfXHzxX"
      },
      "execution_count": null,
      "outputs": []
    }
  ]
}